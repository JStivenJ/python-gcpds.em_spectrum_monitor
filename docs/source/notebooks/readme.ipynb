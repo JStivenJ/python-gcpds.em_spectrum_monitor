
{
 "cells": [
   {
   "cell_type": "markdown",
   "id": "0",
   "metadata": {},
   "source": [
    "# Electromagnetic -Spectrum Monitor"
   ]
  }
 ],
 "metadata": {},
 "nbformat": 4,
 "nbformat_minor": 5
}
